{
 "cells": [
  {
   "cell_type": "markdown",
   "metadata": {},
   "source": [
    "## This notebook shows how to develop KNN Classifier for MNIST handwritten digits classification"
   ]
  },
  {
   "cell_type": "code",
   "execution_count": 1,
   "metadata": {},
   "outputs": [],
   "source": [
    "from tkinter import * \n",
    "import tkinter as tk\n",
    "from PIL import Image, ImageGrab, ImageOps\n",
    "import numpy as np\n",
    "import joblib"
   ]
  },
  {
   "cell_type": "markdown",
   "metadata": {},
   "source": [
    "## Load Trained Model"
   ]
  },
  {
   "cell_type": "code",
   "execution_count": 2,
   "metadata": {},
   "outputs": [
    {
     "name": "stderr",
     "output_type": "stream",
     "text": [
      "/Users/daveyap/Documents/project_folder/daveyap_python/lib/python3.7/site-packages/sklearn/base.py:315: UserWarning: Trying to unpickle estimator KNeighborsClassifier from version 0.23.2 when using version 0.24.1. This might lead to breaking code or invalid results. Use at your own risk.\n",
      "  UserWarning)\n"
     ]
    }
   ],
   "source": [
    "classifier = joblib.load('/Users/daveyap/Desktop/github/Handwritten-digits-classification/mnist_knn_model.sav')"
   ]
  },
  {
   "cell_type": "markdown",
   "metadata": {},
   "source": [
    "## GUI"
   ]
  },
  {
   "cell_type": "code",
   "execution_count": 3,
   "metadata": {},
   "outputs": [],
   "source": [
    "class GUI(tk.Tk):\n",
    "    def __init__(self):\n",
    "        tk.Tk.__init__(self)\n",
    "        self.canvas_width = 200\n",
    "        self.canvas_height = 200\n",
    "        self.bg_color = \"White\"\n",
    "        self.paint_color = \"black\"\n",
    "        self.radius = 5\n",
    "        self.init_canvas()\n",
    "        \n",
    "    def init_canvas(self):\n",
    "        self.canvas = Canvas(self, width=self.canvas_width, height=self.canvas_width, bg = self.bg_color, cursor=\"cross\")\n",
    "        self.button_clear = tk.Button(self, text = \"Clear\", command = self.clear_all)\n",
    "        self.button_predict = tk.Button(self, text = \"Predict\", command = self.predict)\n",
    "        self.label_digit = tk.Label(self, text=\"\", font=(\"Helvetica\"))\n",
    "        self.canvas.grid(row=0, column=0, pady=2, sticky=W, )\n",
    "        self.button_clear.grid(row=1, column=0, pady=2)\n",
    "        self.button_predict.grid(row=1, column=1, pady=2)\n",
    "        self.label_digit.grid(row=0, column=1, padx=2, pady=2)\n",
    "        self.canvas.bind(\"<B1-Motion>\", self.paint)\n",
    "\n",
    "    def paint(self, event):\n",
    "        x1, y1 = (event.x - self.radius), (event.y - self.radius)\n",
    "        x2, y2 = (event.x + self.radius), (event.y + self.radius)\n",
    "        self.canvas.create_oval(x1, y1, x2, y2, fill=self.paint_color, outline=self.paint_color)\n",
    "\n",
    "    def clear_all(self):\n",
    "        self.canvas.delete(\"all\")\n",
    "    \n",
    "    def preprocess(self):\n",
    "        fileName = 'canvas_paint'\n",
    "        \n",
    "        # Find Canvas Coordinates - I tweaked a little bit as a workaround\n",
    "        x = self.canvas.winfo_x() + self.winfo_x() + 52\n",
    "        y = self.canvas.winfo_y() + self.winfo_y() + 77\n",
    "        x1 = x + self.canvas_width\n",
    "        y1 = y + self.canvas_height\n",
    "        \n",
    "        # Screenshot and Save Image in Canvas\n",
    "        img = ImageGrab.grab().crop((x,y,x1,y1))\n",
    "        img.save(fileName + \".jpg\")\n",
    "        \n",
    "        # Invert Image\n",
    "        img = ImageOps.invert(img)\n",
    "        img.save(fileName + \"_negative\" + \".jpg\")\n",
    "        \n",
    "        # Resize and convert it into greyscale\n",
    "        img = img.resize((28,28))\n",
    "        img = img.convert('L')\n",
    "        img.save(fileName + \"_28x28\" + \".jpg\")\n",
    "        \n",
    "        # Convert it into Numpy array\n",
    "        img = np.array(img)\n",
    "        img = img.reshape(28*28)\n",
    "        print(\"Pre Processing complete\")\n",
    "        return img\n",
    "    \n",
    "    def predict(self):\n",
    "        img = self.preprocess()\n",
    "        digit = classifier.predict([img])\n",
    "        self.label_digit.configure(text=str(digit))"
   ]
  },
  {
   "cell_type": "code",
   "execution_count": 4,
   "metadata": {},
   "outputs": [
    {
     "name": "stderr",
     "output_type": "stream",
     "text": [
      "Exception in Tkinter callback\n",
      "Traceback (most recent call last):\n",
      "  File \"/Users/daveyap/Documents/project_folder/daveyap_python/lib/python3.7/site-packages/PIL/JpegImagePlugin.py\", line 610, in _save\n",
      "    rawmode = RAWMODE[im.mode]\n",
      "KeyError: 'RGBA'\n",
      "\n",
      "The above exception was the direct cause of the following exception:\n",
      "\n",
      "Traceback (most recent call last):\n",
      "  File \"/Library/Frameworks/Python.framework/Versions/3.7/lib/python3.7/tkinter/__init__.py\", line 1705, in __call__\n",
      "    return self.func(*args)\n",
      "  File \"<ipython-input-3-e5d0ebc4b4fb>\", line 59, in predict\n",
      "    img = self.preprocess()\n",
      "  File \"<ipython-input-3-e5d0ebc4b4fb>\", line 41, in preprocess\n",
      "    img.save(fileName + \".jpg\")\n",
      "  File \"/Users/daveyap/Documents/project_folder/daveyap_python/lib/python3.7/site-packages/PIL/Image.py\", line 2164, in save\n",
      "    save_handler(self, fp, filename)\n",
      "  File \"/Users/daveyap/Documents/project_folder/daveyap_python/lib/python3.7/site-packages/PIL/JpegImagePlugin.py\", line 612, in _save\n",
      "    raise OSError(f\"cannot write mode {im.mode} as JPEG\") from e\n",
      "OSError: cannot write mode RGBA as JPEG\n"
     ]
    }
   ],
   "source": [
    "app = GUI()\n",
    "mainloop()"
   ]
  },
  {
   "cell_type": "markdown",
   "metadata": {},
   "source": [
    "I had to convert the drawing on the Canvas to an image that can be fed to the Machine Learning model. "
   ]
  },
  {
   "cell_type": "markdown",
   "metadata": {},
   "source": [
    "### Procedure of GUI"
   ]
  },
  {
   "cell_type": "markdown",
   "metadata": {},
   "source": [
    "1.Drawing on the Canvas should be retrieved.Coordinates of the Canvas were calculated and passed to the ImageGrab method as parameters, to accomplish this task.\n",
    "2.Invert the grabbed Image. The ML model is trained on images with Black background and white font. Whereas the grabbed image has white background and black font.\n",
    "3.Resize the Image to 28*28. The ML model requires the input image to be in 28*28 dimensions, as it was trained only with 28*28 images.\n",
    "4.Convert to Greyscale. Convert the image from RGB to Greyscale.\n",
    "5.Store the image as Numpy data for further processing."
   ]
  },
  {
   "cell_type": "code",
   "execution_count": null,
   "metadata": {},
   "outputs": [],
   "source": []
  }
 ],
 "metadata": {
  "kernelspec": {
   "display_name": "daveyap_python",
   "language": "python",
   "name": "daveyap_python"
  },
  "language_info": {
   "codemirror_mode": {
    "name": "ipython",
    "version": 3
   },
   "file_extension": ".py",
   "mimetype": "text/x-python",
   "name": "python",
   "nbconvert_exporter": "python",
   "pygments_lexer": "ipython3",
   "version": "3.7.4"
  }
 },
 "nbformat": 4,
 "nbformat_minor": 4
}
