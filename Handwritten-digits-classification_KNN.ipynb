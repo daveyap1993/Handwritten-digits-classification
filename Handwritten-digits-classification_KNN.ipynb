{
 "cells": [
  {
   "cell_type": "markdown",
   "metadata": {},
   "source": [
    "### This notebook shows how to develop KNN Classifier for MNIST handwritten digits classification"
   ]
  },
  {
   "cell_type": "code",
   "execution_count": 1,
   "metadata": {},
   "outputs": [],
   "source": [
    "import numpy as np\n",
    "import pandas as pd\n",
    "import matplotlib.pyplot as plt\n",
    "from sklearn.neighbors import KNeighborsClassifier\n",
    "from sklearn.metrics import confusion_matrix, accuracy_score\n",
    "from sklearn.metrics import classification_report\n",
    "import pickle \n",
    "import gzip\n",
    "import random"
   ]
  },
  {
   "cell_type": "markdown",
   "metadata": {},
   "source": [
    "## K-Nearest Neighbors"
   ]
  },
  {
   "cell_type": "markdown",
   "metadata": {},
   "source": [
    "from Scikit Learn"
   ]
  },
  {
   "cell_type": "markdown",
   "metadata": {},
   "source": [
    "Load MNIST Dataset"
   ]
  },
  {
   "cell_type": "code",
   "execution_count": 5,
   "metadata": {},
   "outputs": [],
   "source": [
    "#Parameters:\n",
    "#filename : Name of the MNIST '.gz' file with extension\n",
    "#type : 'image' or 'label' to specify the type of data\n",
    "#n_datapoints : Number of datapoints\n",
    "    \n",
    "def load_mnist(filename, type, n_datapoints):\n",
    "    # MNIST Images have 28*28 pixels dimension\n",
    "    image_size = 28\n",
    "    f = gzip.open(filename)\n",
    "    \n",
    "    if(type == 'image'):\n",
    "        f.read(16)    # Skip Non-Image information\n",
    "        buf = f.read(n_datapoints * image_size * image_size)\n",
    "        data = np.frombuffer(buf, dtype=np.uint8).astype(np.float32)\n",
    "        data = data.reshape(n_datapoints, image_size, image_size, 1)\n",
    "    elif(type == 'label'):\n",
    "        f.read(8) # Skip Inessential information\n",
    "        buf = f.read(n_datapoints)\n",
    "        data = np.frombuffer(buf, dtype=np.uint8).astype(np.int64)\n",
    "        data = data.reshape(n_datapoints, 1)\n",
    "    return data"
   ]
  },
  {
   "cell_type": "markdown",
   "metadata": {},
   "source": [
    "You can download MNIST Dataset here: http://yann.lecun.com/exdb/mnist/"
   ]
  },
  {
   "cell_type": "code",
   "execution_count": 17,
   "metadata": {},
   "outputs": [],
   "source": [
    "# Training Dataset\n",
    "train_size = 60000\n",
    "test_size = 10000\n",
    "dirpath = '/Users/daveyap/Desktop/github/Handwritten-digits-classification/'\n",
    "X = load_mnist(dirpath + 'train-images-idx3-ubyte.gz', 'image', train_size)\n",
    "y = load_mnist(dirpath + 'train-labels-idx1-ubyte.gz', 'label', train_size)\n",
    "X_test = load_mnist(dirpath + 't10k-images-idx3-ubyte.gz', 'image', test_size)\n",
    "y_test = load_mnist(dirpath + 't10k-labels-idx1-ubyte.gz', 'label', test_size)"
   ]
  },
  {
   "cell_type": "markdown",
   "metadata": {},
   "source": [
    "To verify whether the data is loaded properly, the image and label are randomly selected and visualized"
   ]
  },
  {
   "cell_type": "code",
   "execution_count": 18,
   "metadata": {},
   "outputs": [
    {
     "name": "stdout",
     "output_type": "stream",
     "text": [
      "Index:  18063\n",
      "Training Set: \n",
      "Label: [6]\n"
     ]
    },
    {
     "data": {
      "image/png": "[encoded data removed]",
      "text/plain": [
       "<Figure size 432x288 with 1 Axes>"
      ]
     },
     "metadata": {
      "needs_background": "light"
     },
     "output_type": "display_data"
    }
   ],
   "source": [
    "index = random.randint(0, train_size)\n",
    "print('Index: ', index)\n",
    "print('Training Set: ')\n",
    "print('Label:', y[index])\n",
    "img = np.asarray(X[index]).squeeze()\n",
    "plt.imshow(img)\n",
    "plt.show()"
   ]
  },
  {
   "cell_type": "code",
   "execution_count": 19,
   "metadata": {
    "scrolled": true
   },
   "outputs": [
    {
     "name": "stdout",
     "output_type": "stream",
     "text": [
      "Index:  6852\n",
      "Training Set: \n",
      "Label: [7]\n"
     ]
    },
    {
     "data": {
      "image/png": "[encoded data removed]",
      "text/plain": [
       "<Figure size 432x288 with 1 Axes>"
      ]
     },
     "metadata": {
      "needs_background": "light"
     },
     "output_type": "display_data"
    }
   ],
   "source": [
    "index = random.randint(0, test_size)\n",
    "print('Index: ', index)\n",
    "print('Training Set: ')\n",
    "print('Label:', y_test[index])\n",
    "img = np.asarray(X_test[index]).squeeze()\n",
    "plt.imshow(img)\n",
    "plt.show()"
   ]
  },
  {
   "cell_type": "markdown",
   "metadata": {},
   "source": [
    "it is clearly that the picture is 7 and its label is also 7."
   ]
  },
  {
   "cell_type": "markdown",
   "metadata": {},
   "source": [
    "We know that K-Nearest Neighbors is a supervise learning method"
   ]
  },
  {
   "cell_type": "code",
   "execution_count": 20,
   "metadata": {},
   "outputs": [
    {
     "name": "stdout",
     "output_type": "stream",
     "text": [
      "(4800, 28, 28, 1) (1200, 28, 28, 1) (4800, 1) (1200, 1)\n"
     ]
    }
   ],
   "source": [
    "from sklearn.model_selection import train_test_split\n",
    "X_train, X_valid, y_train, y_valid = train_test_split(X[:(train_size//10)], y[:(train_size//10)], test_size=0.2, random_state=28)\n",
    "print(X_train.shape, X_valid.shape, y_train.shape, y_valid.shape)"
   ]
  },
  {
   "cell_type": "markdown",
   "metadata": {},
   "source": [
    "## K-Nearest Neighbors"
   ]
  },
  {
   "cell_type": "markdown",
   "metadata": {},
   "source": [
    "### Determining Optimal Number of Neighbors"
   ]
  },
  {
   "cell_type": "markdown",
   "metadata": {},
   "source": [
    "To detect optimal value for 'K', lets compare the accuracy of KNN models with different 'K' values."
   ]
  },
  {
   "cell_type": "markdown",
   "metadata": {},
   "source": [
    "By plotting the values in a graph, we can see the performance visually, and select the best performing 'K' value"
   ]
  },
  {
   "cell_type": "code",
   "execution_count": 21,
   "metadata": {},
   "outputs": [
    {
     "name": "stdout",
     "output_type": "stream",
     "text": [
      "Begin KNN with k= 1\n"
     ]
    },
    {
     "name": "stderr",
     "output_type": "stream",
     "text": [
      "<ipython-input-21-dc3387daef6f>:5: DataConversionWarning: A column-vector y was passed when a 1d array was expected. Please change the shape of y to (n_samples, ), for example using ravel().\n",
      "  classifier = classifier.fit(X_train.reshape(X_train.shape[0], 28*28), y_train)\n"
     ]
    },
    {
     "name": "stdout",
     "output_type": "stream",
     "text": [
      "Accuracy:  0.9475\n",
      "Confusion Matrix:\n",
      " [[111   0   0   0   0   0   0   0   0   0]\n",
      " [  0 132   0   1   0   0   0   0   0   0]\n",
      " [  0   2  96   0   0   0   0   2   2   0]\n",
      " [  2   1   1 113   0   3   1   0   0   1]\n",
      " [  0   3   0   0 123   0   2   0   0   4]\n",
      " [  1   0   0   0   0 105   1   0   0   0]\n",
      " [  3   0   0   0   0   0 129   0   1   0]\n",
      " [  0   4   0   1   0   2   0 128   0   2]\n",
      " [  1   1   3   5   0   1   0   0  96   1]\n",
      " [  3   0   1   1   4   0   0   2   0 104]]\n",
      "\n",
      "---------------\n",
      "\n",
      "Begin KNN with k= 2\n"
     ]
    },
    {
     "name": "stderr",
     "output_type": "stream",
     "text": [
      "<ipython-input-21-dc3387daef6f>:5: DataConversionWarning: A column-vector y was passed when a 1d array was expected. Please change the shape of y to (n_samples, ), for example using ravel().\n",
      "  classifier = classifier.fit(X_train.reshape(X_train.shape[0], 28*28), y_train)\n"
     ]
    },
    {
     "name": "stdout",
     "output_type": "stream",
     "text": [
      "Accuracy:  0.9208333333333333\n",
      "Confusion Matrix:\n",
      " [[111   0   0   0   0   0   0   0   0   0]\n",
      " [  0 132   0   1   0   0   0   0   0   0]\n",
      " [  0   5  95   0   0   0   1   1   0   0]\n",
      " [  2   2   1 113   0   2   1   1   0   0]\n",
      " [  0   5   0   0 123   0   2   0   0   2]\n",
      " [  4   0   0   1   1 100   1   0   0   0]\n",
      " [  3   0   0   0   1   2 127   0   0   0]\n",
      " [  1   6   1   1   5   1   0 120   0   2]\n",
      " [  1   2   6   5   0   7   0   0  87   0]\n",
      " [  4   2   0   2   5   1   0   4   0  97]]\n",
      "\n",
      "---------------\n",
      "\n",
      "Begin KNN with k= 3\n"
     ]
    },
    {
     "name": "stderr",
     "output_type": "stream",
     "text": [
      "<ipython-input-21-dc3387daef6f>:5: DataConversionWarning: A column-vector y was passed when a 1d array was expected. Please change the shape of y to (n_samples, ), for example using ravel().\n",
      "  classifier = classifier.fit(X_train.reshape(X_train.shape[0], 28*28), y_train)\n"
     ]
    },
    {
     "name": "stdout",
     "output_type": "stream",
     "text": [
      "Accuracy:  0.9358333333333333\n",
      "Confusion Matrix:\n",
      " [[111   0   0   0   0   0   0   0   0   0]\n",
      " [  0 132   0   1   0   0   0   0   0   0]\n",
      " [  0   4  95   1   0   0   0   1   1   0]\n",
      " [  2   2   0 114   0   3   0   0   0   1]\n",
      " [  0   5   0   0 122   0   1   0   0   4]\n",
      " [  3   1   0   2   0  98   1   0   2   0]\n",
      " [  2   0   0   0   1   1 129   0   0   0]\n",
      " [  1   3   0   0   2   0   0 126   0   5]\n",
      " [  1   2   5   6   0   1   0   0  92   1]\n",
      " [  4   1   0   2   1   0   0   3   0 104]]\n",
      "\n",
      "---------------\n",
      "\n",
      "Begin KNN with k= 4\n"
     ]
    },
    {
     "name": "stderr",
     "output_type": "stream",
     "text": [
      "<ipython-input-21-dc3387daef6f>:5: DataConversionWarning: A column-vector y was passed when a 1d array was expected. Please change the shape of y to (n_samples, ), for example using ravel().\n",
      "  classifier = classifier.fit(X_train.reshape(X_train.shape[0], 28*28), y_train)\n"
     ]
    },
    {
     "name": "stdout",
     "output_type": "stream",
     "text": [
      "Accuracy:  0.94\n",
      "Confusion Matrix:\n",
      " [[111   0   0   0   0   0   0   0   0   0]\n",
      " [  0 132   0   1   0   0   0   0   0   0]\n",
      " [  0   4  95   1   0   0   1   1   0   0]\n",
      " [  2   2   0 116   0   1   0   0   0   1]\n",
      " [  0   4   0   0 125   0   1   0   0   2]\n",
      " [  2   0   0   4   0  97   1   1   2   0]\n",
      " [  3   0   0   0   0   1 129   0   0   0]\n",
      " [  1   4   0   0   2   0   0 127   0   3]\n",
      " [  0   2   4   5   0   3   0   0  94   0]\n",
      " [  3   1   0   2   2   0   1   4   0 102]]\n",
      "\n",
      "---------------\n",
      "\n",
      "Begin KNN with k= 5\n"
     ]
    },
    {
     "name": "stderr",
     "output_type": "stream",
     "text": [
      "<ipython-input-21-dc3387daef6f>:5: DataConversionWarning: A column-vector y was passed when a 1d array was expected. Please change the shape of y to (n_samples, ), for example using ravel().\n",
      "  classifier = classifier.fit(X_train.reshape(X_train.shape[0], 28*28), y_train)\n"
     ]
    },
    {
     "name": "stdout",
     "output_type": "stream",
     "text": [
      "Accuracy:  0.9391666666666667\n",
      "Confusion Matrix:\n",
      " [[111   0   0   0   0   0   0   0   0   0]\n",
      " [  0 133   0   0   0   0   0   0   0   0]\n",
      " [  0   4  95   0   0   0   0   1   2   0]\n",
      " [  1   3   0 116   0   1   0   0   0   1]\n",
      " [  0   4   0   0 122   0   1   0   0   5]\n",
      " [  3   2   0   5   0  95   1   0   1   0]\n",
      " [  3   0   0   0   0   1 129   0   0   0]\n",
      " [  1   4   0   0   1   1   0 127   0   3]\n",
      " [  0   2   3   6   0   2   0   0  95   0]\n",
      " [  3   2   0   1   1   0   1   3   0 104]]\n",
      "\n",
      "---------------\n",
      "\n",
      "Begin KNN with k= 6\n"
     ]
    },
    {
     "name": "stderr",
     "output_type": "stream",
     "text": [
      "<ipython-input-21-dc3387daef6f>:5: DataConversionWarning: A column-vector y was passed when a 1d array was expected. Please change the shape of y to (n_samples, ), for example using ravel().\n",
      "  classifier = classifier.fit(X_train.reshape(X_train.shape[0], 28*28), y_train)\n"
     ]
    },
    {
     "name": "stdout",
     "output_type": "stream",
     "text": [
      "Accuracy:  0.9375\n",
      "Confusion Matrix:\n",
      " [[111   0   0   0   0   0   0   0   0   0]\n",
      " [  0 133   0   0   0   0   0   0   0   0]\n",
      " [  1   4  93   1   0   0   0   1   2   0]\n",
      " [  1   3   0 117   0   0   0   0   0   1]\n",
      " [  0   4   0   0 123   0   1   0   0   4]\n",
      " [  3   1   0   5   0  94   1   1   1   1]\n",
      " [  1   1   0   0   0   1 130   0   0   0]\n",
      " [  0   5   0   0   2   1   0 126   0   3]\n",
      " [  0   2   2   6   0   2   0   0  96   0]\n",
      " [  3   1   0   2   1   0   1   5   0 102]]\n",
      "\n",
      "---------------\n",
      "\n",
      "Begin KNN with k= 7\n"
     ]
    },
    {
     "name": "stderr",
     "output_type": "stream",
     "text": [
      "<ipython-input-21-dc3387daef6f>:5: DataConversionWarning: A column-vector y was passed when a 1d array was expected. Please change the shape of y to (n_samples, ), for example using ravel().\n",
      "  classifier = classifier.fit(X_train.reshape(X_train.shape[0], 28*28), y_train)\n"
     ]
    },
    {
     "name": "stdout",
     "output_type": "stream",
     "text": [
      "Accuracy:  0.935\n",
      "Confusion Matrix:\n",
      " [[110   0   0   0   0   0   1   0   0   0]\n",
      " [  0 132   0   0   0   0   0   0   0   1]\n",
      " [  1   4  94   0   0   0   0   1   2   0]\n",
      " [  2   4   0 115   0   0   0   0   0   1]\n",
      " [  0   4   0   0 120   0   2   0   0   6]\n",
      " [  3   2   0   4   0  95   1   0   1   1]\n",
      " [  2   1   0   0   0   1 129   0   0   0]\n",
      " [  0   5   0   0   1   1   0 126   0   4]\n",
      " [  1   2   3   5   0   1   0   0  96   0]\n",
      " [  3   1   0   2   0   0   1   3   0 105]]\n",
      "\n",
      "---------------\n",
      "\n",
      "Begin KNN with k= 8\n"
     ]
    },
    {
     "name": "stderr",
     "output_type": "stream",
     "text": [
      "<ipython-input-21-dc3387daef6f>:5: DataConversionWarning: A column-vector y was passed when a 1d array was expected. Please change the shape of y to (n_samples, ), for example using ravel().\n",
      "  classifier = classifier.fit(X_train.reshape(X_train.shape[0], 28*28), y_train)\n"
     ]
    },
    {
     "name": "stdout",
     "output_type": "stream",
     "text": [
      "Accuracy:  0.9341666666666667\n",
      "Confusion Matrix:\n",
      " [[110   0   0   0   0   0   1   0   0   0]\n",
      " [  0 132   0   0   0   0   0   0   0   1]\n",
      " [  1   4  94   0   0   0   0   1   2   0]\n",
      " [  1   4   0 116   0   0   0   0   0   1]\n",
      " [  0   4   0   0 122   0   2   0   0   4]\n",
      " [  3   2   0   5   0  95   1   0   0   1]\n",
      " [  2   1   0   0   0   1 129   0   0   0]\n",
      " [  0   6   0   0   1   1   0 126   0   3]\n",
      " [  0   2   3   6   0   3   0   0  94   0]\n",
      " [  3   1   0   2   1   0   1   4   0 103]]\n",
      "\n",
      "---------------\n",
      "\n"
     ]
    }
   ],
   "source": [
    "score = []\n",
    "for k in range(1, 9):\n",
    "  print('Begin KNN with k=',k)\n",
    "  classifier = KNeighborsClassifier(n_neighbors=k)\n",
    "  classifier = classifier.fit(X_train.reshape(X_train.shape[0], 28*28), y_train)\n",
    "  pred = classifier.predict(X_valid.reshape(X_valid.shape[0], 28*28))\n",
    "  accuracy = accuracy_score(y_valid, pred)\n",
    "  score.append(accuracy)\n",
    "  print(\"Accuracy: \",accuracy)\n",
    "  print(\"Confusion Matrix:\\n\", confusion_matrix(y_valid, pred))\n",
    "  print(\"\\n---------------\\n\")"
   ]
  },
  {
   "cell_type": "code",
   "execution_count": 22,
   "metadata": {},
   "outputs": [
    {
     "data": {
      "image/png": "[encoded data removed]",
      "text/plain": [
       "<Figure size 432x288 with 1 Axes>"
      ]
     },
     "metadata": {
      "needs_background": "light"
     },
     "output_type": "display_data"
    }
   ],
   "source": [
    "plt.plot(range(1,9), score)\n",
    "plt.title('Determining the Optimal Number of Neighbors')\n",
    "plt.xlabel('K - Number of Neighbors')\n",
    "plt.ylabel('Accuracy')\n",
    "plt.show()"
   ]
  },
  {
   "cell_type": "markdown",
   "metadata": {},
   "source": [
    "Looking at the performance scores, K=1 might seem the most promising model as it has the highest accuracy.\n",
    "\n",
    "But pragmatically, trying to predict a datapoint based on only one neighbor is definitely not a better choice to make. So, it's a wise choice to ignore the option.\n",
    "\n",
    "There is a huge dip in performance for K=2, and a steep increase when the neighbors are increased to 3.\n",
    "\n",
    "The performance curve increases for K=4, and slightly decrease for k=5.\n",
    "\n",
    "It's up to us to choose either 4 or 5 for our requirement."
   ]
  },
  {
   "cell_type": "code",
   "execution_count": 23,
   "metadata": {},
   "outputs": [
    {
     "name": "stderr",
     "output_type": "stream",
     "text": [
      "<ipython-input-23-5c17080c5ee0>:2: DataConversionWarning: A column-vector y was passed when a 1d array was expected. Please change the shape of y to (n_samples, ), for example using ravel().\n",
      "  classifier = classifier.fit(X.reshape(X.shape[0], 28*28), y)\n"
     ]
    }
   ],
   "source": [
    "classifier = KNeighborsClassifier(n_neighbors=4)\n",
    "classifier = classifier.fit(X.reshape(X.shape[0], 28*28), y)"
   ]
  },
  {
   "cell_type": "markdown",
   "metadata": {},
   "source": [
    "### Testing the Model"
   ]
  },
  {
   "cell_type": "code",
   "execution_count": 24,
   "metadata": {},
   "outputs": [
    {
     "name": "stdout",
     "output_type": "stream",
     "text": [
      "CPU times: user 12min 18s, sys: 11.2 s, total: 12min 29s\n",
      "Wall time: 14min 29s\n"
     ]
    }
   ],
   "source": [
    "%%time\n",
    "y_pred = classifier.predict(X_test.reshape(X_test.shape[0], 28*28))"
   ]
  },
  {
   "cell_type": "markdown",
   "metadata": {},
   "source": [
    "We use almost 14 minutes to fit this KNN models"
   ]
  },
  {
   "cell_type": "code",
   "execution_count": 25,
   "metadata": {},
   "outputs": [
    {
     "name": "stdout",
     "output_type": "stream",
     "text": [
      "[[ 976    1    1    0    0    1    0    1    0    0]\n",
      " [   0 1133    2    0    0    0    0    0    0    0]\n",
      " [  11    8  993    1    1    0    0   16    2    0]\n",
      " [   0    2    5  979    1   10    1    7    2    3]\n",
      " [   3    9    0    0  952    0    4    1    0   13]\n",
      " [   4    0    0   17    2  862    5    1    0    1]\n",
      " [   6    3    0    0    4    3  942    0    0    0]\n",
      " [   0   23    5    0    5    0    0  988    0    7]\n",
      " [   9    3    5   16    6   19    5    5  902    4]\n",
      " [   4    6    3    6   13    4    1   16    1  955]]\n",
      "0.9682\n"
     ]
    }
   ],
   "source": [
    "print(confusion_matrix(y_test, y_pred))\n",
    "print(accuracy_score(y_test, y_pred))"
   ]
  },
  {
   "cell_type": "code",
   "execution_count": 26,
   "metadata": {},
   "outputs": [
    {
     "name": "stdout",
     "output_type": "stream",
     "text": [
      "              precision    recall  f1-score   support\n",
      "\n",
      "           0       1.00      0.96      0.98      1013\n",
      "           1       1.00      0.95      0.98      1188\n",
      "           2       0.96      0.98      0.97      1014\n",
      "           3       0.97      0.96      0.97      1019\n",
      "           4       0.97      0.97      0.97       984\n",
      "           5       0.97      0.96      0.96       899\n",
      "           6       0.98      0.98      0.98       958\n",
      "           7       0.96      0.95      0.96      1035\n",
      "           8       0.93      0.99      0.96       907\n",
      "           9       0.95      0.97      0.96       983\n",
      "\n",
      "    accuracy                           0.97     10000\n",
      "   macro avg       0.97      0.97      0.97     10000\n",
      "weighted avg       0.97      0.97      0.97     10000\n",
      "\n"
     ]
    }
   ],
   "source": [
    "print(classification_report(y_pred, y_test))"
   ]
  },
  {
   "cell_type": "markdown",
   "metadata": {},
   "source": [
    "## Results"
   ]
  },
  {
   "cell_type": "markdown",
   "metadata": {},
   "source": [
    "KNN Model with 4 neighbors performed really well with 96.82% accuracy."
   ]
  },
  {
   "cell_type": "markdown",
   "metadata": {},
   "source": [
    "**Saving the Trained KNN Model using Pickle**"
   ]
  },
  {
   "cell_type": "code",
   "execution_count": 27,
   "metadata": {},
   "outputs": [],
   "source": [
    "filename = 'mnist_knn_model.sav'\n",
    "pickle.dump(classifier, open(filename, 'wb'))"
   ]
  },
  {
   "cell_type": "code",
   "execution_count": null,
   "metadata": {},
   "outputs": [],
   "source": [
    "## We can load the Model by using the following line of code\n",
    "# classifier = pickle.load(open(filename, 'rb'))"
   ]
  },
  {
   "cell_type": "markdown",
   "metadata": {},
   "source": [
    "After building the KNN model, I used the 'pickle' library to save the ML model to a local file, which will use later for GUI for real-time classification. So, this project also includes a User Interface, where the user can draw any number on the canvas, and the ML model will try to guess what that digit is. "
   ]
  },
  {
   "cell_type": "code",
   "execution_count": null,
   "metadata": {},
   "outputs": [],
   "source": []
  }
 ],
 "metadata": {
  "kernelspec": {
   "display_name": "Python 3",
   "language": "python",
   "name": "python3"
  },
  "language_info": {
   "codemirror_mode": {
    "name": "ipython",
    "version": 3
   },
   "file_extension": ".py",
   "mimetype": "text/x-python",
   "name": "python",
   "nbconvert_exporter": "python",
   "pygments_lexer": "ipython3",
   "version": "3.8.3"
  }
 },
 "nbformat": 4,
 "nbformat_minor": 4
}
